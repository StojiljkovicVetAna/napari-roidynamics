{
 "cells": [
  {
   "cell_type": "code",
   "execution_count": 1,
   "metadata": {},
   "outputs": [
    {
     "data": {
      "text/plain": [
       "<napari._qt.widgets.qt_viewer_dock_widget.QtViewerDockWidget at 0x17c93e94b80>"
      ]
     },
     "execution_count": 1,
     "metadata": {},
     "output_type": "execute_result"
    }
   ],
   "source": [
    "from IPython.display import Image\n",
    "import napari\n",
    "from napari.utils.notebook_display import nbscreenshot\n",
    "import warnings\n",
    "warnings.filterwarnings(\"ignore\")\n",
    "\n",
    "from napari_roidynamics._widget import RoidynamicsforNapari\n",
    "\n",
    "viewer=napari.Viewer()\n",
    "widget = RoidynamicsforNapari(napari_viewer=viewer)\n",
    "viewer.window.add_dock_widget(widget=widget)"
   ]
  },
  {
   "cell_type": "markdown",
   "metadata": {},
   "source": [
    "# Step-by-step guide\n",
    "7 steps are necessary to perform intensity measurements with the napari-roidynamics plugin.Although the steps are self-explanatory, here you can find some important considerations for each step of the analysis.\n",
    "\n",
    "To start using napari-roidynamics activate the environment containing the napari-roidynamics installation and open a napari GUI by typing napari in the terminal. In the GUI open the Plugins/napari-roidynamics.\n",
    "\n",
    "*In the example below I have called the environment 'roidynamics-test'*\n"
   ]
  },
  {
   "cell_type": "code",
   "execution_count": 2,
   "metadata": {
    "tags": [
     "remove-input"
    ]
   },
   "outputs": [
    {
     "data": {
      "image/png": "[encoded data removed]",
      "text/plain": [
       "<IPython.core.display.Image object>"
      ]
     },
     "execution_count": 2,
     "metadata": {},
     "output_type": "execute_result"
    }
   ],
   "source": [
    "Image('images/anaconda_Prompt.png')"
   ]
  },
  {
   "cell_type": "code",
   "execution_count": null,
   "metadata": {
    "tags": [
     "hide-input"
    ]
   },
   "outputs": [],
   "source": [
    "nbscreenshot(viewer)"
   ]
  },
  {
   "cell_type": "markdown",
   "metadata": {},
   "source": [
    "Drag-and-drop the images that you wamt to analyze. The image should be a time-lapse. If you have many channels, import the different channels as single time-lapse images.\n",
    "\n",
    "```{warning}\n",
    "The image should not contain 'mask' in its name, because this is a filtering criterion to import them in the different drop-down menus. If this is the case, you can rename the images directly in napari for the analysis.\n",
    "```"
   ]
  },
  {
   "cell_type": "markdown",
   "metadata": {},
   "source": [
    "## 1. Add a point of interest\n",
    "To add the point of interest you have two different options:\n",
    "\n",
    "- You can manually add a point of interest using the 'Add ROI' button. This will create a point layer in napari called 'point of interest'. You can now add a point where you want the roidynamics to be generated.\n",
    "\n",
    "- Alternatively, if you have already a label image, you can drag-and-drop it in napari together with the images to analyze.<br/>\n",
    "*In this case, roidynamics will calculate a center of mass for your label, and use it as the coordinates to generate the roidynamics geometry.*\n",
    "\n",
    "```{warning}\n",
    "Make sure that the label image is imported correctly as label. If this is not the case you can right-click on the image, and select the option \"Convert to Labels\"\n",
    "\n",
    "```\n",
    "\n"
   ]
  },
  {
   "cell_type": "markdown",
   "metadata": {},
   "source": [
    "## 2. Select the point or label layer from which the mask will be generated:\n",
    "Even if you have a label, maybe you have decided to add a point of interest manually, so here is the option where you have to decide, which layer will be used to generate the roidynamics. Select from the drop down menu."
   ]
  },
  {
   "cell_type": "markdown",
   "metadata": {},
   "source": [
    "## 3. Generate a sector of the desired geometry using the tabs:\n",
    "Depending on what geometry you want to generate, there are different parameters that you have to set. This is why the roidynamics geometries are are displayed on different tabs. You can also decide to generate different geometries. When you hit the generate button napari-roidynamics will produce a label layer with the selected geometry."
   ]
  },
  {
   "cell_type": "code",
   "execution_count": null,
   "metadata": {
    "tags": [
     "remove-input"
    ]
   },
   "outputs": [],
   "source": [
    "Image('images/napari-roidynamics_shapes.png')"
   ]
  },
  {
   "cell_type": "markdown",
   "metadata": {},
   "source": [
    "### radial sector\n",
    "Parameters:\n",
    "- *sector width* is the radius of each sector\n",
    "- *number of sectors* defines how many sectors will compose this geometry\n",
    "\n",
    "After the selection, hit the *Generate radial sector!* button. When the mask is generated, you can adjust it using the spin buttons.\n",
    "\n",
    "\n",
    "```{warning}\n",
    "If the geometry doesn't update live make sure that the correct layer is selected in step 2. \n",
    "```"
   ]
  },
  {
   "attachments": {},
   "cell_type": "markdown",
   "metadata": {
    "tags": [
     "remove-input"
    ]
   },
   "source": [
    "```{image} images/radial_sector.png\n",
    ":alt: radial sector\n",
    ":class: bg-primary\n",
    ":width: 600px\n",
    ":align: center\n",
    "```"
   ]
  },
  {
   "cell_type": "markdown",
   "metadata": {},
   "source": [
    "### angular sector\n",
    "Parameters:\n",
    "- *angle width* is represented in degrees, and its range is 1-360°\n",
    "- *sector radius* is the radius of the circle that will be generated\n",
    "\n",
    "```{warning}\n",
    "The last sector will not be generated, unless 360° is a multiple of the angle width you have select.\n",
    "```"
   ]
  },
  {
   "cell_type": "markdown",
   "metadata": {
    "tags": [
     "remove-input"
    ]
   },
   "source": [
    "```{image} images/angular_sector.png\n",
    ":alt: angular sector\n",
    ":class: bg-primary\n",
    ":width: 600px\n",
    ":align: center\n",
    "```"
   ]
  },
  {
   "cell_type": "markdown",
   "metadata": {},
   "source": [
    "In the following example an angle of 50° was selected, therefore only 7 complete angular sectors were generated."
   ]
  },
  {
   "cell_type": "markdown",
   "metadata": {
    "tags": [
     "remove-input"
    ]
   },
   "source": [
    "```{image} images/angular_missing.png\n",
    ":alt: angular sector missing\n",
    ":class: bg-primary\n",
    ":width: 300px\n",
    ":align: center\n",
    "```"
   ]
  },
  {
   "cell_type": "markdown",
   "metadata": {},
   "source": [
    "### circular sector\n",
    "This geometry is very similar to the angular sector but it is annular, so that you will need to setup the thickness of the generated ring. \n",
    "\n",
    "Parameters:\n",
    "- *angle width* is represented in degrees, and its range is 1-360°\n",
    "- *sector radius* is the radius of the circle that will be generated\n",
    "- *ring width* determines the thickness of the ring"
   ]
  },
  {
   "cell_type": "markdown",
   "metadata": {},
   "source": [
    "## 4. Select the channel to analyze:\n",
    "If you have imported different image channels to analyze, here you have to input on which image you want to apply the roidynamics intensity measurements."
   ]
  },
  {
   "cell_type": "markdown",
   "metadata": {},
   "source": [
    "## 5. Select the sector mask to apply:\n",
    "In step 5, you might have generated different sectors, therefore here you need to select which mask will be used to calculate the intensities. \n",
    "\n",
    "```{warning}\n",
    "Here is where the 'mask' filtering is applied, your mask will be displayed in this drop-down menu, only if it contains the word 'mask'. Please, even if you decide to rename this layer, keep the word \"mask\" in the new name.\n",
    "```"
   ]
  },
  {
   "cell_type": "markdown",
   "metadata": {},
   "source": [
    "## 6. Compute plot\n",
    "This function will generate a line plot in a separate window, with the time points on the x-axis and the intensity of the different sectors on the y-axis.\n",
    "The colors of the lines corresponds to the colors of the sectors."
   ]
  },
  {
   "cell_type": "markdown",
   "metadata": {},
   "source": [
    "## 7. Save plot data\n",
    "Use this option to save the generated data, you will be asked to select a folder to export the saved results. The saving automatically includes:\n",
    "- the .csv file of the plot data\n",
    "- the mask geometry used for the measurements. This can later be reimported as a label layer in napari\n",
    "- the screenshot of the napari viewer main window, so that you can document the overlap of the mask and the analyzed images."
   ]
  },
  {
   "cell_type": "markdown",
   "metadata": {},
   "source": [
    "## Save all combinations"
   ]
  },
  {
   "cell_type": "markdown",
   "metadata": {},
   "source": [
    "This is an optional step that allows you to measure automatically the intensities in all the channels that you have loaded (listed in step 4), applying all the geometries that you have generated (listed in step 5)."
   ]
  },
  {
   "cell_type": "code",
   "execution_count": null,
   "metadata": {},
   "outputs": [],
   "source": []
  }
 ],
 "metadata": {
  "kernelspec": {
   "display_name": "Python 3 (ipykernel)",
   "language": "python",
   "name": "python3"
  },
  "language_info": {
   "codemirror_mode": {
    "name": "ipython",
    "version": 3
   },
   "file_extension": ".py",
   "mimetype": "text/x-python",
   "name": "python",
   "nbconvert_exporter": "python",
   "pygments_lexer": "ipython3",
   "version": "3.9.16"
  }
 },
 "nbformat": 4,
 "nbformat_minor": 4
}
